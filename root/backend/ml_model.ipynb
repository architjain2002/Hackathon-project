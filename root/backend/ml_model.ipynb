{
 "cells": [
  {
   "cell_type": "code",
   "execution_count": 1,
   "metadata": {},
   "outputs": [],
   "source": [
    "import tensorflow as tf\n",
    "from tensorflow import keras\n",
    "import pandas as pd\n",
    "import numpy as np\n",
    "import sys"
   ]
  },
  {
   "cell_type": "code",
   "execution_count": 2,
   "metadata": {},
   "outputs": [],
   "source": [
    "from sklearn.tree import DecisionTreeClassifier\n",
    "from sklearn import datasets\n",
    "from sklearn.model_selection import train_test_split\n",
    "from sklearn.metrics import confusion_matrix,accuracy_score\n",
    "from sklearn.preprocessing import LabelEncoder ,OneHotEncoder"
   ]
  },
  {
   "cell_type": "code",
   "execution_count": 3,
   "metadata": {},
   "outputs": [],
   "source": [
    "dataset = pd.read_csv(\"dataset.csv\");"
   ]
  },
  {
   "cell_type": "code",
   "execution_count": 4,
   "metadata": {},
   "outputs": [
    {
     "data": {
      "text/plain": [
       "array([['itching', 'skin_rash', 'nodal_skin_eruptions'],\n",
       "       ['skin_rash', 'nodal_skin_eruptions', 'dischromic _patches'],\n",
       "       ['itching', 'nodal_skin_eruptions', 'dischromic _patches'],\n",
       "       ...,\n",
       "       [nan, nan, nan],\n",
       "       [nan, nan, nan],\n",
       "       [nan, nan, nan]], dtype=object)"
      ]
     },
     "execution_count": 4,
     "metadata": {},
     "output_type": "execute_result"
    }
   ],
   "source": [
    "df1 = pd.DataFrame(dataset)\n",
    "X = df1.iloc[:,1:4]\n",
    "Y = df1.iloc[:,0]\n",
    "features = np.array(X.columns)\n",
    "# features\n",
    "np.array(X)"
   ]
  },
  {
   "cell_type": "code",
   "execution_count": 5,
   "metadata": {},
   "outputs": [
    {
     "data": {
      "text/plain": [
       "0"
      ]
     },
     "execution_count": 5,
     "metadata": {},
     "output_type": "execute_result"
    }
   ],
   "source": [
    "LabelEncoder_Y= LabelEncoder()\n",
    "Y= LabelEncoder_Y.fit_transform(Y)\n",
    "np.amin(Y)"
   ]
  },
  {
   "cell_type": "code",
   "execution_count": 6,
   "metadata": {},
   "outputs": [],
   "source": [
    "# LabelEncoder_X= LabelEncoder()\n",
    "# # X= np.array(X)\n",
    "# # X = LabelEncoder_X.fit_transform(X[0])\n",
    "# for i in range(0,3):\n",
    "#     X.loc[:,features[i]]= LabelEncoder_X.fit_transform(X.iloc[:,i])\n",
    "# print(X.shape)\n",
    "# X\n",
    "# np.array(X_train)"
   ]
  },
  {
   "cell_type": "code",
   "execution_count": 7,
   "metadata": {},
   "outputs": [
    {
     "data": {
      "text/plain": [
       "array([[0., 0., 0., ..., 0., 0., 0.],\n",
       "       [0., 0., 0., ..., 0., 0., 0.],\n",
       "       [0., 0., 0., ..., 0., 0., 0.],\n",
       "       ...,\n",
       "       [0., 0., 0., ..., 0., 0., 1.],\n",
       "       [0., 0., 0., ..., 0., 0., 1.],\n",
       "       [0., 0., 0., ..., 0., 0., 1.]])"
      ]
     },
     "execution_count": 7,
     "metadata": {},
     "output_type": "execute_result"
    }
   ],
   "source": [
    "# after_encoding = pd.get_dummies(X,columns=features)\n",
    "# X=after_encoding \n",
    "# X\n",
    "enc = OneHotEncoder(handle_unknown='ignore').fit(X)\n",
    "X = enc.transform(X).toarray()\n",
    "X"
   ]
  },
  {
   "cell_type": "code",
   "execution_count": 8,
   "metadata": {},
   "outputs": [],
   "source": [
    "X_train,X_test,Y_train,Y_test = train_test_split(X,Y,test_size=0.2,random_state=5)\n",
    "# after_one_hot_encoding_X_train = pd.get_dummies(X_train,columns=features)\n",
    "# X_train = after_one_hot_encoding_X_train\n",
    "# after_one_hot_encoding_X_test = pd.get_dummies(X_test,columns=features)\n",
    "# X_test = after_one_hot_encoding_X_test\n",
    "# from sklearn.preprocessing import StandardScaler\n",
    "# sc_X = StandardScaler()\n",
    "# X_train = sc_X.fit_transform(X_train)\n",
    "# X_test = sc_X.fit_transform(X_test)"
   ]
  },
  {
   "cell_type": "code",
   "execution_count": 9,
   "metadata": {},
   "outputs": [],
   "source": [
    "X_train = np.array(X_train)\n",
    "X_test = np.array(X_test)\n",
    "Y_train = np.array(Y_train)\n",
    "Y_test = np.array(Y_test)\n"
   ]
  },
  {
   "cell_type": "code",
   "execution_count": 10,
   "metadata": {},
   "outputs": [
    {
     "data": {
      "text/plain": [
       "array([41, 21, 13, ..., 41, 33, 36])"
      ]
     },
     "execution_count": 10,
     "metadata": {},
     "output_type": "execute_result"
    }
   ],
   "source": [
    "Y_test"
   ]
  },
  {
   "cell_type": "code",
   "execution_count": 11,
   "metadata": {},
   "outputs": [
    {
     "name": "stdout",
     "output_type": "stream",
     "text": [
      "Epoch 1/5\n",
      "134/134 [==============================] - 1s 5ms/step - loss: 0.8011 - accuracy: 0.8640\n",
      "Epoch 2/5\n",
      "134/134 [==============================] - 1s 5ms/step - loss: 0.1130 - accuracy: 0.9494\n",
      "Epoch 3/5\n",
      "134/134 [==============================] - 1s 5ms/step - loss: 0.1034 - accuracy: 0.9510\n",
      "Epoch 4/5\n",
      "134/134 [==============================] - 1s 5ms/step - loss: 0.1046 - accuracy: 0.9531\n",
      "Epoch 5/5\n",
      "134/134 [==============================] - 1s 5ms/step - loss: 0.1004 - accuracy: 0.9489\n"
     ]
    },
    {
     "data": {
      "text/plain": [
       "<keras.callbacks.History at 0x1e7095ca1c0>"
      ]
     },
     "execution_count": 11,
     "metadata": {},
     "output_type": "execute_result"
    }
   ],
   "source": [
    "model = keras.Sequential([\n",
    "    keras.layers.Dense(900,activation = \"relu\"),\n",
    "    keras.layers.Dense(500,activation = \"relu\"),\n",
    "    tf.keras.layers.Dense(42,activation = 'softmax')\n",
    "    # tried with sigmoid as well, but the results are quite same.\n",
    "])\n",
    "model.compile(\n",
    "    optimizer ='adam',\n",
    "    loss = 'sparse_categorical_crossentropy',\n",
    "    metrics =['accuracy']\n",
    ")\n",
    "model.fit(X_train,Y_train,epochs = 5)"
   ]
  },
  {
   "cell_type": "code",
   "execution_count": 12,
   "metadata": {},
   "outputs": [
    {
     "name": "stdout",
     "output_type": "stream",
     "text": [
      "34/34 [==============================] - 0s 2ms/step - loss: 0.0875 - accuracy: 0.9531\n"
     ]
    },
    {
     "data": {
      "text/plain": [
       "[0.0875338464975357, 0.9531396627426147]"
      ]
     },
     "execution_count": 12,
     "metadata": {},
     "output_type": "execute_result"
    }
   ],
   "source": [
    "model.evaluate(X_test,Y_test)"
   ]
  },
  {
   "cell_type": "code",
   "execution_count": 13,
   "metadata": {},
   "outputs": [
    {
     "data": {
      "text/plain": [
       "(1067, 42)"
      ]
     },
     "execution_count": 13,
     "metadata": {},
     "output_type": "execute_result"
    }
   ],
   "source": [
    "Y_pred = model.predict(X_test)\n",
    "Y_pred.shape"
   ]
  },
  {
   "cell_type": "code",
   "execution_count": 14,
   "metadata": {},
   "outputs": [
    {
     "data": {
      "text/plain": [
       "array([41, 22, 13, ..., 41, 33, 37], dtype=int64)"
      ]
     },
     "execution_count": 14,
     "metadata": {},
     "output_type": "execute_result"
    }
   ],
   "source": [
    "Y_pred_values =[np.argmax(i) for i in Y_pred]\n",
    "Y_pred_values = np.array(Y_pred_values)\n",
    "Y_pred_values"
   ]
  },
  {
   "cell_type": "code",
   "execution_count": 15,
   "metadata": {},
   "outputs": [
    {
     "data": {
      "text/plain": [
       "<tf.Tensor: shape=(42, 42), dtype=int32, numpy=\n",
       "array([[20,  0,  0, ...,  0,  0,  0],\n",
       "       [ 0, 23,  0, ...,  0,  0,  0],\n",
       "       [ 0,  0, 35, ...,  0,  0,  0],\n",
       "       ...,\n",
       "       [ 0,  0,  0, ..., 25,  0,  0],\n",
       "       [ 0,  0,  0, ...,  0, 22,  0],\n",
       "       [ 0,  0,  0, ...,  0,  0, 73]])>"
      ]
     },
     "execution_count": 15,
     "metadata": {},
     "output_type": "execute_result"
    }
   ],
   "source": [
    "tf.math.confusion_matrix(labels=Y_test,predictions=Y_pred_values)"
   ]
  },
  {
   "cell_type": "code",
   "execution_count": 16,
   "metadata": {},
   "outputs": [
    {
     "name": "stdout",
     "output_type": "stream",
     "text": [
      "['Fungal infection']\n"
     ]
    }
   ],
   "source": [
    "print(LabelEncoder_Y.inverse_transform([15]))"
   ]
  },
  {
   "cell_type": "code",
   "execution_count": 17,
   "metadata": {},
   "outputs": [
    {
     "name": "stdout",
     "output_type": "stream",
     "text": [
      "['vomiting' 'loss_of_appetite' 'passage_of_gases']\n"
     ]
    },
    {
     "name": "stderr",
     "output_type": "stream",
     "text": [
      "C:\\Users\\arcyj\\AppData\\Local\\Programs\\Python\\Python39\\lib\\site-packages\\sklearn\\base.py:441: UserWarning: X does not have valid feature names, but OneHotEncoder was fitted with feature names\n",
      "  warnings.warn(\n"
     ]
    },
    {
     "data": {
      "text/plain": [
       "array([[0., 0., 0., 0., 0., 0., 0., 0., 0., 0., 0., 0., 0., 0., 0., 0.,\n",
       "        0., 0., 0., 0., 0., 0., 0., 0., 0., 0., 0., 0., 0., 1., 0., 0.,\n",
       "        0., 0., 0., 0., 0., 0., 0., 0., 0., 0., 0., 0., 0., 0., 0., 0.,\n",
       "        0., 0., 0., 0., 0., 0., 0., 0., 0., 0., 1., 0., 0., 0., 0., 0.,\n",
       "        0., 0., 0., 0., 0., 0., 0., 0., 0., 0., 0., 0., 0., 0., 0., 0.,\n",
       "        0., 0., 0., 0., 0., 0., 0., 0., 0., 0., 0., 0., 0., 0., 0., 0.,\n",
       "        0., 0., 0., 0., 0., 0., 0., 0., 0., 0., 0., 0., 0., 0., 0., 0.,\n",
       "        0., 0., 0., 0., 0., 0., 0., 0., 0., 0., 0., 0., 0., 0., 0., 0.,\n",
       "        0., 0., 0., 0., 0., 0., 0., 0., 0., 0., 0.]])"
      ]
     },
     "execution_count": 17,
     "metadata": {},
     "output_type": "execute_result"
    }
   ],
   "source": [
    "## for mongo db to puthon connection using pymongo\n",
    "import pymongo as pm\n",
    "\n",
    "myconnection = pm.MongoClient(\"mongodb://localhost:27017/\")\n",
    "\n",
    "mydb = myconnection[\"health_db\"]\n",
    "mycol = mydb[\"Symptoms\"]\n",
    "\n",
    "symptoms_dict_array=[]\n",
    "for x in mycol.find({},{\"_id\":0}):\n",
    "  symptoms_dict_array.append(x)\n",
    "symptoms_array = np.array(list(symptoms_dict_array[0].values()))\n",
    "print(symptoms_array)\n",
    "#['itching', ' skin_rash', ' dischromic _patches']\n",
    "\n",
    "newvalues_X = enc.transform([symptoms_array]).toarray()\n",
    "newvalues_X"
   ]
  },
  {
   "cell_type": "code",
   "execution_count": 18,
   "metadata": {},
   "outputs": [],
   "source": [
    "# newvalues_X = enc.transform([['itching', ' skin_rash', ' dischromic _patches']]).toarray()\n",
    "# newvalues_X.shape"
   ]
  },
  {
   "cell_type": "code",
   "execution_count": 19,
   "metadata": {},
   "outputs": [],
   "source": [
    "Y_pred_new = model.predict(newvalues_X)"
   ]
  },
  {
   "cell_type": "code",
   "execution_count": 20,
   "metadata": {},
   "outputs": [
    {
     "data": {
      "text/plain": [
       "33"
      ]
     },
     "execution_count": 20,
     "metadata": {},
     "output_type": "execute_result"
    }
   ],
   "source": [
    "Y_pred_values_new =[np.argmax(i) for i in Y_pred_new]\n",
    "Y_pred_values_new = np.array(Y_pred_values_new)\n",
    "Y_pred_values_new[0]"
   ]
  },
  {
   "cell_type": "code",
   "execution_count": 21,
   "metadata": {},
   "outputs": [
    {
     "name": "stdout",
     "output_type": "stream",
     "text": [
      "Peptic ulcer diseae\n"
     ]
    }
   ],
   "source": [
    "output_value = LabelEncoder_Y.inverse_transform([Y_pred_values_new[0]])[0]\n",
    "#print(LabelEncoder_Y.inverse_transform([Y_pred_values_new[0]]))\n",
    "print(output_value)"
   ]
  },
  {
   "cell_type": "code",
   "execution_count": 22,
   "metadata": {},
   "outputs": [],
   "source": [
    "dataset2 = pd.read_csv(\"symptom_Description.csv\")\n",
    "dataset2.index = dataset2.loc[:,\"Disease\"]"
   ]
  },
  {
   "cell_type": "code",
   "execution_count": 23,
   "metadata": {},
   "outputs": [
    {
     "data": {
      "text/plain": [
       "array(['Peptic ulcer disease (PUD) is a break in the inner lining of the stomach, the first part of the small intestine, or sometimes the lower esophagus. An ulcer in the stomach is called a gastric ulcer, while one in the first part of the intestines is a duodenal ulcer.'],\n",
       "      dtype=object)"
      ]
     },
     "execution_count": 23,
     "metadata": {},
     "output_type": "execute_result"
    }
   ],
   "source": [
    "disease_description = dataset2.loc[[output_value],\"Description\"].to_numpy()\n",
    "disease_description"
   ]
  },
  {
   "cell_type": "code",
   "execution_count": 24,
   "metadata": {},
   "outputs": [],
   "source": [
    "dataset3 = pd.read_csv(\"symptom_precaution.csv\")\n",
    "dataset3.index = dataset3.loc[:,\"Disease\"]"
   ]
  },
  {
   "cell_type": "code",
   "execution_count": 25,
   "metadata": {},
   "outputs": [
    {
     "data": {
      "text/plain": [
       "array(['avoid fatty spicy food', 'consume probiotic food',\n",
       "       'eliminate milk', 'limit alcohol'], dtype=object)"
      ]
     },
     "execution_count": 25,
     "metadata": {},
     "output_type": "execute_result"
    }
   ],
   "source": [
    "disease_precaution = dataset3.loc[[output_value],[\"Precaution_1\",\"Precaution_2\",\"Precaution_3\",\"Precaution_4\"]].to_numpy()\n",
    "disease_precaution = disease_precaution.reshape(-1)\n",
    "disease_precaution"
   ]
  },
  {
   "cell_type": "code",
   "execution_count": 26,
   "metadata": {},
   "outputs": [
    {
     "data": {
      "text/plain": [
       "<pymongo.results.UpdateResult at 0x1e710c8a3c0>"
      ]
     },
     "execution_count": 26,
     "metadata": {},
     "output_type": "execute_result"
    }
   ],
   "source": [
    "output_data_dictionary = {\n",
    "    \"$set\":{\n",
    "    \"description\": disease_description[0],\n",
    "    \"precautions_1\": disease_precaution[0],\n",
    "    \"precautions_2\": disease_precaution[1],\n",
    "    \"precautions_3\": disease_precaution[2],\n",
    "    \"precautions_4\": disease_precaution[3]\n",
    "    }\n",
    "}\n",
    "\n",
    "insertion_id = {\n",
    "    \"_id\":sys.argv[1]\n",
    "}\n",
    "print(insertion_id)\n",
    "mycol.update_one(insertion_id,output_data_dictionary)"
   ]
  }
 ],
 "metadata": {
  "interpreter": {
   "hash": "aa16eebc24a407bf27ad521d6867b38fcb0dc59326f83deff352e5076124f736"
  },
  "kernelspec": {
   "display_name": "Python 3.9.7 64-bit",
   "name": "python3"
  },
  "language_info": {
   "codemirror_mode": {
    "name": "ipython",
    "version": 3
   },
   "file_extension": ".py",
   "mimetype": "text/x-python",
   "name": "python",
   "nbconvert_exporter": "python",
   "pygments_lexer": "ipython3",
   "version": "3.9.7"
  },
  "orig_nbformat": 4
 },
 "nbformat": 4,
 "nbformat_minor": 2
}
